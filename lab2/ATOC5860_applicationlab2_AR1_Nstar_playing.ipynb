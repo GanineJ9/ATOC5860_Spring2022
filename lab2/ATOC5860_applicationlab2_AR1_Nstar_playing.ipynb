{
 "cells": [
  {
   "cell_type": "code",
   "execution_count": 1,
   "metadata": {},
   "outputs": [],
   "source": [
    "### ATOC5860 Application Lab #2 - ATOC7500_applicationlab2_AR1_Nstar\n",
    "### Written by Jennifer Kay (CU), Elizabeth Maroon (CU), and Hannah Zanowski (CU)\n",
    "### Last updated September 23, 2020\n",
    "\n",
    "##LEARNING GOALS:\n",
    "##1) Calculate the autocorrelation at a range of lags using two methods available in python (np.correlate, dot products)\n",
    "##2) Estimate the effective sample size (N*) using the lag-1 autocorrelation\n",
    "##3) Evaluate the influence of changing the sampling frequency on the autocorrelation and on N*.\n",
    "\n",
    "import numpy as np\n",
    "import matplotlib\n",
    "%matplotlib inline\n",
    "import matplotlib.pyplot as plt\n",
    "import xarray\n",
    "import pandas as pd   ##pandas reads in .csv.\n",
    "from scipy import stats\n",
    "import seaborn as sns  ### seaborn just makes things pretty -- no new typing\n",
    "sns.set_style('whitegrid')  ###  change away from grey grid (seaborn default) to white grid"
   ]
  },
  {
   "cell_type": "code",
   "execution_count": 2,
   "metadata": {},
   "outputs": [
    {
     "data": {
      "text/html": [
       "<div>\n",
       "<style scoped>\n",
       "    .dataframe tbody tr th:only-of-type {\n",
       "        vertical-align: middle;\n",
       "    }\n",
       "\n",
       "    .dataframe tbody tr th {\n",
       "        vertical-align: top;\n",
       "    }\n",
       "\n",
       "    .dataframe thead th {\n",
       "        text-align: right;\n",
       "    }\n",
       "</style>\n",
       "<table border=\"1\" class=\"dataframe\">\n",
       "  <thead>\n",
       "    <tr style=\"text-align: right;\">\n",
       "      <th></th>\n",
       "      <th>day</th>\n",
       "      <th>hour</th>\n",
       "      <th>temp_F</th>\n",
       "      <th>RH</th>\n",
       "      <th>dewtemp_F</th>\n",
       "      <th>wind_mph</th>\n",
       "      <th>wind_dir</th>\n",
       "      <th>windgust</th>\n",
       "      <th>windgust_dir</th>\n",
       "      <th>pres_Hg</th>\n",
       "      <th>SOLIN_Wm2</th>\n",
       "      <th>Prec_inches</th>\n",
       "    </tr>\n",
       "  </thead>\n",
       "  <tbody>\n",
       "    <tr>\n",
       "      <th>0</th>\n",
       "      <td>42370</td>\n",
       "      <td>0.000000</td>\n",
       "      <td>7.0</td>\n",
       "      <td>72.2</td>\n",
       "      <td>-0.1</td>\n",
       "      <td>1.2</td>\n",
       "      <td>234</td>\n",
       "      <td>3.9</td>\n",
       "      <td>224</td>\n",
       "      <td>851.30</td>\n",
       "      <td>0.0</td>\n",
       "      <td>0.0</td>\n",
       "    </tr>\n",
       "    <tr>\n",
       "      <th>1</th>\n",
       "      <td>42370</td>\n",
       "      <td>0.041667</td>\n",
       "      <td>5.4</td>\n",
       "      <td>74.3</td>\n",
       "      <td>-1.0</td>\n",
       "      <td>3.4</td>\n",
       "      <td>299</td>\n",
       "      <td>7.1</td>\n",
       "      <td>302</td>\n",
       "      <td>850.82</td>\n",
       "      <td>0.0</td>\n",
       "      <td>0.0</td>\n",
       "    </tr>\n",
       "    <tr>\n",
       "      <th>2</th>\n",
       "      <td>42370</td>\n",
       "      <td>0.083333</td>\n",
       "      <td>6.4</td>\n",
       "      <td>73.8</td>\n",
       "      <td>-0.2</td>\n",
       "      <td>2.8</td>\n",
       "      <td>200</td>\n",
       "      <td>7.0</td>\n",
       "      <td>301</td>\n",
       "      <td>849.83</td>\n",
       "      <td>0.0</td>\n",
       "      <td>0.0</td>\n",
       "    </tr>\n",
       "    <tr>\n",
       "      <th>3</th>\n",
       "      <td>42370</td>\n",
       "      <td>0.125000</td>\n",
       "      <td>3.0</td>\n",
       "      <td>73.5</td>\n",
       "      <td>-3.6</td>\n",
       "      <td>2.9</td>\n",
       "      <td>309</td>\n",
       "      <td>6.1</td>\n",
       "      <td>349</td>\n",
       "      <td>850.69</td>\n",
       "      <td>0.0</td>\n",
       "      <td>0.0</td>\n",
       "    </tr>\n",
       "    <tr>\n",
       "      <th>4</th>\n",
       "      <td>42370</td>\n",
       "      <td>0.166667</td>\n",
       "      <td>3.7</td>\n",
       "      <td>76.9</td>\n",
       "      <td>-1.9</td>\n",
       "      <td>3.1</td>\n",
       "      <td>346</td>\n",
       "      <td>5.3</td>\n",
       "      <td>255</td>\n",
       "      <td>848.24</td>\n",
       "      <td>0.0</td>\n",
       "      <td>0.0</td>\n",
       "    </tr>\n",
       "  </tbody>\n",
       "</table>\n",
       "</div>"
      ],
      "text/plain": [
       "     day      hour  temp_F    RH  dewtemp_F  wind_mph  wind_dir  windgust  \\\n",
       "0  42370  0.000000     7.0  72.2       -0.1       1.2       234       3.9   \n",
       "1  42370  0.041667     5.4  74.3       -1.0       3.4       299       7.1   \n",
       "2  42370  0.083333     6.4  73.8       -0.2       2.8       200       7.0   \n",
       "3  42370  0.125000     3.0  73.5       -3.6       2.9       309       6.1   \n",
       "4  42370  0.166667     3.7  76.9       -1.9       3.1       346       5.3   \n",
       "\n",
       "   windgust_dir  pres_Hg  SOLIN_Wm2  Prec_inches  \n",
       "0           224   851.30        0.0          0.0  \n",
       "1           302   850.82        0.0          0.0  \n",
       "2           301   849.83        0.0          0.0  \n",
       "3           349   850.69        0.0          0.0  \n",
       "4           255   848.24        0.0          0.0  "
      ]
     },
     "execution_count": 2,
     "metadata": {},
     "output_type": "execute_result"
    }
   ],
   "source": [
    "## Read in the data\n",
    "filename = 'christman_2016.csv'\n",
    "data=pd.read_csv(filename,sep=',')\n",
    "data.head()"
   ]
  },
  {
   "cell_type": "code",
   "execution_count": 20,
   "metadata": {},
   "outputs": [
    {
     "name": "stdout",
     "output_type": "stream",
     "text": [
      "minimum data value:  -14.3\n",
      "maximum data value:  97.6\n"
     ]
    },
    {
     "data": {
      "image/png": "[encoded data removed]",
      "text/plain": [
       "<Figure size 432x288 with 1 Axes>"
      ]
     },
     "metadata": {},
     "output_type": "display_data"
    }
   ],
   "source": [
    "## Plot midnight temperature data for Fort Collins, Colorado\n",
    "X=data['temp_F']\n",
    "X_daily=X[::6] ## sample the hourly data every 24 hours [12::24][::2] for noon\n",
    "print('minimum data value: ',X_daily.min())\n",
    "print('maximum data value: ',X_daily.max())\n",
    "xindex = (np.arange(0,np.size(X),1))/24.\n",
    "xindex_daily=xindex[::6] ## sample the index every 24 hours [12::24][::2] for noon\n",
    "plt.plot(xindex_daily, X_daily, linewidth = 0.75)\n",
    "v = np.std(X_daily)\n",
    "plt.text(0.95, 0.925,'$\\sigma = $' + str(np.round(v)) + '$^o$F', ha='right', transform=plt.gca().transAxes, color = 'k')\n",
    "ymin, ymax = plt.ylim();\n",
    "xmin, xmax = plt.xlim();\n",
    "lines = plt.plot((xmin, xmax),(0, 0),(0, 0),(ymin, ymax));\n",
    "plt.setp(lines,color='black', linewidth=1);\n",
    "plt.ylim((ymin, ymax));\n",
    "plt.xlim((xmin, xmax));\n",
    "plt.ylabel('Temperature (deg. F)');\n",
    "plt.xlabel('Day');\n",
    "plt.title('Hourly midnight temperature - Fort Collins, Colorado');"
   ]
  },
  {
   "cell_type": "code",
   "execution_count": 26,
   "metadata": {},
   "outputs": [
    {
     "name": "stdout",
     "output_type": "stream",
     "text": [
      "0        7.0\n",
      "6        3.5\n",
      "12      31.6\n",
      "18      21.0\n",
      "24      18.6\n",
      "        ... \n",
      "8754    43.5\n",
      "8760    40.9\n",
      "8766    22.5\n",
      "8772    31.9\n",
      "8778    23.9\n",
      "Name: temp_F, Length: 1464, dtype: float64\n",
      "[0.0000e+00 2.5000e-01 5.0000e-01 ... 3.6525e+02 3.6550e+02 3.6575e+02]\n"
     ]
    }
   ],
   "source": [
    "print(X_daily)\n",
    "print(xindex_daily)"
   ]
  },
  {
   "cell_type": "code",
   "execution_count": 21,
   "metadata": {},
   "outputs": [
    {
     "name": "stdout",
     "output_type": "stream",
     "text": [
      "lag 1 autocorrelation np.correlate: 0.762\n",
      "lag 1 autocorrelation direct calc: 0.762\n"
     ]
    }
   ],
   "source": [
    "#Find the lag-one autocorrelation (AR1)\n",
    "tseries=X_daily\n",
    "sigma=np.std(tseries)  ## calculate the standard deviation\n",
    "mean=np.mean(tseries)  ## calculate the mean\n",
    "n=len(tseries)         ## calculate the length of the timeseries\n",
    "lag=1                  ## warning: you cannot change this to be a negative lag. \n",
    "                       ## this cell does not work for negative lags - Can you see why?\n",
    "\n",
    "## remove the mean\n",
    "tseries1=tseries-mean\n",
    "\n",
    "##Create two timeseries of the data at t=t1 and t=t2\n",
    "t1_m=tseries1[0:-1*lag]\n",
    "t2_m=tseries1[lag:]\n",
    "# print(t1_m)\n",
    "# print(t2_m)\n",
    "\n",
    "#Method #1\n",
    "#Calculate the autocorrelation using numpy correlate lagN\n",
    "lagNauto_np=np.correlate(t1_m,t2_m,mode='valid')/(n-lag)/(sigma**2)\n",
    "print('lag',lag,'autocorrelation np.correlate:',round(lagNauto_np[0],3))\n",
    "\n",
    "#Method #2 - direct calculation\n",
    "#Calculate the autocorrelation using numpy dot\n",
    "## (https://docs.scipy.org/doc/numpy-1.13.0/reference/generated/numpy.dot.html)\n",
    "lagNauto=np.dot(t1_m,t2_m)/(n-lag)/sigma**2 ## Barnes Chapter 2 Eq. 68 divided by the variance\n",
    "print('lag',lag,'autocorrelation direct calc:',round(lagNauto,3))\n",
    "\n",
    "if lag==1: alpha=lagNauto"
   ]
  },
  {
   "cell_type": "code",
   "execution_count": 27,
   "metadata": {},
   "outputs": [
    {
     "data": {
      "image/png": "[encoded data removed]",
      "text/plain": [
       "<Figure size 432x288 with 1 Axes>"
      ]
     },
     "metadata": {},
     "output_type": "display_data"
    }
   ],
   "source": [
    "# Calculate the autocorrelation at all lags and plot it\n",
    "# Is it symmetric about 0 lag?  Should it be? (hint: the answer is yes)\n",
    "tseries1=tseries-mean\n",
    "half=int(len(tseries)/2)\n",
    "lags=np.arange(-1*half,half,1.)\n",
    "#print(len(tseries1))\n",
    "#print(len(lags))\n",
    "#print(len(np.correlate(tseries1,tseries1,mode='same')))\n",
    "autocorrelation_function=np.correlate(tseries1,tseries1,mode='same')/(n-np.abs(lags))/sigma**2  ##Eq. 67 divided by variance\n",
    "# autocorrelation_function=np.dot(tseries1,tseries1)/(n-np.abs(lags))/sigma**2 ## Barnes Chapter 2 Eq. 68 divided by the variance\n",
    "\n",
    "plt.plot(range(-1*half,half),autocorrelation_function)\n",
    "plt.xlim([-40,40]);\n",
    "plt.ylim([0.0,1.0]);\n",
    "plt.xlabel('Lag (Days)',fontsize=14);\n",
    "plt.ylabel('Autocorrelation',fontsize=14);\n",
    "# print(autocorrelation_function)"
   ]
  },
  {
   "cell_type": "code",
   "execution_count": null,
   "metadata": {},
   "outputs": [],
   "source": []
  },
  {
   "cell_type": "code",
   "execution_count": 28,
   "metadata": {},
   "outputs": [
    {
     "name": "stdout",
     "output_type": "stream",
     "text": [
      "# samples, N:  1464\n",
      "lag-1 autocorrelation:  0.76\n",
      "#independent samples, N*:  198.0\n"
     ]
    }
   ],
   "source": [
    "## Calculate the effective sample size (N*) for this data \n",
    "## Compare your estimate of the number of independent samples (N*) with the number of samples \n",
    "## in your original data (N)\n",
    "N=len(tseries)\n",
    "print('# samples, N: ',N)\n",
    "print('lag-1 autocorrelation: ',round(alpha,2))\n",
    "print('#independent samples, N*: ',round((1-np.abs(alpha))/(1+np.abs(alpha))*N,0)) ## Chapter 2 Barnes Eq. 88\n",
    "## Note that the value of the autocorrelation used in Eq. 88 should be the absolute value otherwise\n",
    "## if alpha is negative you end up with more independent samples than original samples"
   ]
  },
  {
   "cell_type": "code",
   "execution_count": 24,
   "metadata": {},
   "outputs": [
    {
     "data": {
      "text/plain": [
       "0.7621142191583926"
      ]
     },
     "execution_count": 24,
     "metadata": {},
     "output_type": "execute_result"
    }
   ],
   "source": [
    "alpha"
   ]
  },
  {
   "cell_type": "code",
   "execution_count": null,
   "metadata": {},
   "outputs": [],
   "source": []
  },
  {
   "cell_type": "code",
   "execution_count": null,
   "metadata": {},
   "outputs": [],
   "source": []
  },
  {
   "cell_type": "code",
   "execution_count": null,
   "metadata": {},
   "outputs": [],
   "source": []
  }
 ],
 "metadata": {
  "kernelspec": {
   "display_name": "Python 3",
   "language": "python",
   "name": "python3"
  },
  "language_info": {
   "codemirror_mode": {
    "name": "ipython",
    "version": 3
   },
   "file_extension": ".py",
   "mimetype": "text/x-python",
   "name": "python",
   "nbconvert_exporter": "python",
   "pygments_lexer": "ipython3",
   "version": "3.8.5"
  }
 },
 "nbformat": 4,
 "nbformat_minor": 4
}
